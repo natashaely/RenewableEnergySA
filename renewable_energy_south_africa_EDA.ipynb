{
  "cells": [
    {
      "cell_type": "markdown",
      "metadata": {
        "id": "d0sm9Dtgvmqi"
      },
      "source": [
        "### **Importing the libraries required for this project.**"
      ]
    },
    {
      "cell_type": "code",
      "execution_count": null,
      "metadata": {
        "id": "NdZ93nt9vQfO"
      },
      "outputs": [],
      "source": [
        "# The Pandas library will be used for preprocessing and organizing text data into a data frame for further analysis.\n",
        "\n",
        "import pandas as pd"
      ]
    },
    {
      "cell_type": "code",
      "execution_count": null,
      "metadata": {
        "id": "BbwSJCY9w1y5"
      },
      "outputs": [],
      "source": [
        "# Numpy will be used for performing numerical computations on textual data converted into numerical vectors.\n",
        "\n",
        "import numpy as np"
      ]
    },
    {
      "cell_type": "code",
      "execution_count": null,
      "metadata": {
        "id": "r-dhMhb4w6xU"
      },
      "outputs": [],
      "source": [
        "# Matplotlib will be used for data visualisation.\n",
        "\n",
        "import matplotlib.pyplot as plt\n"
      ]
    },
    {
      "cell_type": "code",
      "execution_count": null,
      "metadata": {
        "id": "KStaRKmxw8xK"
      },
      "outputs": [],
      "source": [
        "# Seaborn will be used for data visualisation.\n",
        "\n",
        "import seaborn as sns\n"
      ]
    },
    {
      "cell_type": "markdown",
      "metadata": {
        "id": "FlXOGqYNw_OM"
      },
      "source": [
        "\n",
        "\n",
        "---\n",
        "\n"
      ]
    },
    {
      "cell_type": "markdown",
      "metadata": {
        "id": "UhBuxvavxyT1"
      },
      "source": [
        "### **Reading in the data**"
      ]
    },
    {
      "cell_type": "code",
      "execution_count": null,
      "metadata": {
        "id": "6N9CY5cBxA3k"
      },
      "outputs": [],
      "source": [
        "data_df = pd.read_csv(\"/content/drive/MyDrive/Colab/5 Renewable Energy/owid-energy-data.csv\")"
      ]
    },
    {
      "cell_type": "markdown",
      "metadata": {
        "id": "G3eiS2jqyed6"
      },
      "source": [
        "\n",
        "\n",
        "---\n",
        "\n"
      ]
    },
    {
      "cell_type": "markdown",
      "metadata": {
        "id": "R6Yg4zlZzhQx"
      },
      "source": [
        "### **Inspecting the data**"
      ]
    },
    {
      "cell_type": "code",
      "execution_count": null,
      "metadata": {
        "id": "mY1AQBN2zqHP"
      },
      "outputs": [],
      "source": [
        "# Viewing the first 10 rows of the dataset for a brief overview of the structure and composition of the DataFrame.\n",
        "\n",
        "data_df.head(10)"
      ]
    },
    {
      "cell_type": "markdown",
      "metadata": {
        "id": "J51witPt1v2o"
      },
      "source": [
        "### **Creating a filtered dataframe showing only data from South Africa**\n",
        "As this study is focussed on renewable energy generation in South Africa, I can reduce the size of the dataset and optimise my workflow by filtering the rows of data applicable to other countries.\n"
      ]
    },
    {
      "cell_type": "code",
      "execution_count": null,
      "metadata": {
        "id": "JzhHvqwT131X"
      },
      "outputs": [],
      "source": [
        "# Filtering rows where 'country' column contains 'South Africa'\n",
        "\n",
        "df = data_df[data_df['country'] == 'South Africa']\n"
      ]
    },
    {
      "cell_type": "code",
      "execution_count": null,
      "metadata": {
        "id": "pr42nTEWUjb4"
      },
      "outputs": [],
      "source": [
        "# Retrieving the dimensions of a dataframe. After filtering out the irrelevant rows, I now have 122 rows remaining of the original 21890.\n",
        "df.shape"
      ]
    },
    {
      "cell_type": "markdown",
      "metadata": {
        "id": "eCNfaMIw13LU"
      },
      "source": [
        "\n",
        "\n",
        "---\n",
        "\n"
      ]
    },
    {
      "cell_type": "markdown",
      "metadata": {
        "id": "yA-Ne1XWvnfq"
      },
      "source": [
        "### **Inspecting the filtered dataset**"
      ]
    },
    {
      "cell_type": "code",
      "execution_count": null,
      "metadata": {
        "id": "D0gteIsBU1kH"
      },
      "outputs": [],
      "source": [
        "# Identifying the columns in the dataframe.\n",
        "df.columns"
      ]
    },
    {
      "cell_type": "code",
      "execution_count": null,
      "metadata": {
        "id": "8hmjawjr3eqF"
      },
      "outputs": [],
      "source": [
        "# Identifying the types of data in each column.\n",
        "\n",
        "df.dtypes"
      ]
    },
    {
      "cell_type": "code",
      "execution_count": null,
      "metadata": {
        "id": "Ncy8YipWoLwU"
      },
      "outputs": [],
      "source": [
        "# A summary of the dataframe, including the number of non-null values and the data type of each column.\n",
        "\n",
        "df.info()"
      ]
    },
    {
      "cell_type": "code",
      "execution_count": null,
      "metadata": {
        "id": "MIzoRlajoPo7"
      },
      "outputs": [],
      "source": [
        "# Calculating the percentage of missing values in each column, and printing the column name and percentage of missing values in that column.\n",
        "\n",
        "for col in df.columns:\n",
        "  pct_missing = np.mean(df[col].isnull())\n",
        "  print('{} - {}%'.format(col, pct_missing))"
      ]
    },
    {
      "cell_type": "code",
      "execution_count": null,
      "metadata": {
        "id": "pINxUoWz4SZM"
      },
      "outputs": [],
      "source": [
        "# Returning the sum of missing values in each column of the dataframe.\n",
        "\n",
        "df.isnull().sum()\n"
      ]
    },
    {
      "cell_type": "markdown",
      "metadata": {
        "id": "00XMwiGp4WIc"
      },
      "source": [
        "\n",
        "\n",
        "---\n",
        "\n"
      ]
    },
    {
      "cell_type": "markdown",
      "metadata": {
        "id": "ZTVWpJOAKp4Q"
      },
      "source": [
        "### **Data cleaning**"
      ]
    },
    {
      "cell_type": "code",
      "source": [
        "# Dropping the rows which correspond with the years between 1900 and 1984, where no data was tracked.\n",
        "\n",
        "df.drop(df.loc[df['year'] <= 1985].index, inplace=True)"
      ],
      "metadata": {
        "id": "NbKTkYVTbZjp"
      },
      "execution_count": null,
      "outputs": []
    },
    {
      "cell_type": "code",
      "execution_count": null,
      "metadata": {
        "id": "F4KtiieVM5KG"
      },
      "outputs": [],
      "source": [
        "# Dropping the redundant columns.\n",
        "columns_to_drop = ['country', 'iso_code', 'population', 'gdp']\n",
        "df = df.drop(columns=columns_to_drop)"
      ]
    },
    {
      "cell_type": "code",
      "execution_count": null,
      "metadata": {
        "id": "8SpyquNg9poZ"
      },
      "outputs": [],
      "source": [
        "# Retrieving the dimensions of a dataframe to verify that 4 columns have been removed. 125 columns remaining of the original 129.\n",
        "df.shape"
      ]
    },
    {
      "cell_type": "code",
      "execution_count": null,
      "metadata": {
        "id": "KSCR_nCz-nMU"
      },
      "outputs": [],
      "source": [
        "# The dataset contains percentage values, which will skew the analysis.\n",
        "# Dropping columns that contain percentage values.\n",
        "\n",
        "df = df.filter(regex='^(?!.*(_change_pct|_change_twh|_per_capita|_share_elec|_share_energy)).*$')\n"
      ]
    },
    {
      "cell_type": "code",
      "execution_count": null,
      "metadata": {
        "id": "xI9iFLgD_kxl"
      },
      "outputs": [],
      "source": [
        "# Identifying the remaining columns in the dataframe.\n",
        "df.columns"
      ]
    },
    {
      "cell_type": "code",
      "execution_count": null,
      "metadata": {
        "id": "I-9DNpnI_76D"
      },
      "outputs": [],
      "source": [
        "# Viewing the first 10 rows of the dataset for a brief overview of the structure and composition of the DataFrame.\n",
        "\n",
        "df.head(10)"
      ]
    },
    {
      "cell_type": "code",
      "execution_count": null,
      "metadata": {
        "id": "_A4nhrOfATvC"
      },
      "outputs": [],
      "source": [
        "# Replacing all NaN values with zero\n",
        "df = df.fillna(0)\n",
        "\n",
        "# Printing the DataFrame with NaN values replaced\n",
        "print(df)"
      ]
    },
    {
      "cell_type": "markdown",
      "metadata": {
        "id": "wcP7T97mV_-e"
      },
      "source": [
        "\n",
        "\n",
        "---\n",
        "\n"
      ]
    },
    {
      "cell_type": "markdown",
      "metadata": {
        "id": "Q76TjRIQ7wbf"
      },
      "source": [
        "### **Summary statistics on key Category Variables**\n",
        "Generating summary statistics each variable, providing insights into the central tendency, spread, and distribution of the data."
      ]
    },
    {
      "cell_type": "code",
      "execution_count": null,
      "metadata": {
        "id": "io4Pr1RoPn7z"
      },
      "outputs": [],
      "source": [
        "df.describe()"
      ]
    },
    {
      "cell_type": "markdown",
      "metadata": {
        "id": "qRMl2bLB9EKk"
      },
      "source": [
        "\n",
        "\n",
        "---\n",
        "\n"
      ]
    },
    {
      "cell_type": "markdown",
      "metadata": {
        "id": "MPM0FhQ2QL18"
      },
      "source": [
        "### **Exploratory Data Analysis: Visualisations**\n"
      ]
    },
    {
      "cell_type": "markdown",
      "metadata": {
        "id": "jPlPIfKYSBiw"
      },
      "source": [
        "#### **Energy generation over time**\n"
      ]
    },
    {
      "cell_type": "code",
      "execution_count": null,
      "metadata": {
        "id": "hNJDBoHCSD3u"
      },
      "outputs": [],
      "source": [
        "# Plotting electricity generation trends over time\n",
        "plt.figure(figsize=(12, 6))\n",
        "plt.plot(df['year'], df['electricity_generation'])\n",
        "plt.xlabel('Year')\n",
        "plt.ylabel('Electricity Generation')\n",
        "plt.title('Electricity Generation Trends')\n",
        "plt.show()\n"
      ]
    },
    {
      "cell_type": "markdown",
      "metadata": {
        "id": "hOZV2JnySyfw"
      },
      "source": [
        "#### **Energy demand vs Energy Generation**\n"
      ]
    },
    {
      "cell_type": "code",
      "execution_count": null,
      "metadata": {
        "id": "ju1u91NnStHi"
      },
      "outputs": [],
      "source": [
        "# Plotting electricity demand vs. electricity generation using a scatter plot\n",
        "plt.figure(figsize=(12, 6))\n",
        "plt.scatter(df['electricity_demand'], df['electricity_generation'])\n",
        "plt.xlabel('Electricity Demand')\n",
        "plt.ylabel('Electricity Generation')\n",
        "plt.title('Electricity Demand vs. Generation')\n",
        "plt.show()\n"
      ]
    },
    {
      "cell_type": "markdown",
      "metadata": {
        "id": "zrciztRGTJIs"
      },
      "source": [
        "#### **Energy generation per source**\n"
      ]
    },
    {
      "cell_type": "code",
      "execution_count": null,
      "metadata": {
        "id": "f6UfMjLTTAks"
      },
      "outputs": [],
      "source": [
        "# Selecting columns for stacked area plot\n",
        "energy_sources = ['biofuel_electricity', 'coal_electricity', 'gas_electricity', 'fossil_electricity', 'low_carbon_electricity', 'hydro_electricity', 'nuclear_electricity', 'oil_electricity', 'solar_electricity', 'wind_electricity', 'other_renewable_electricity']\n",
        "\n",
        "# Plotting stacked area chart\n",
        "plt.figure(figsize=(12, 6))\n",
        "plt.stackplot(df['year'], [df[column] for column in energy_sources], labels=energy_sources)\n",
        "plt.xlabel('Year')\n",
        "plt.ylabel('Electricity Generation')\n",
        "plt.title('Electricity Generation by Energy Source')\n",
        "plt.legend()\n",
        "plt.show()\n"
      ]
    },
    {
      "cell_type": "markdown",
      "metadata": {
        "id": "7zQDI_wBSknN"
      },
      "source": [
        "#### **Energy consumption per category**\n"
      ]
    },
    {
      "cell_type": "code",
      "execution_count": null,
      "metadata": {
        "id": "9ztJwd4USYk7"
      },
      "outputs": [],
      "source": [
        "# Plotting energy consumption comparison using a bar plot\n",
        "energy_sources = ['biofuel_consumption', 'coal_consumption', 'gas_consumption', 'low_carbon_consumption', 'hydro_consumption', 'nuclear_consumption', 'oil_consumption', 'solar_consumption', 'wind_consumption', 'other_renewable_consumption']\n",
        "consumption_values = [df[column].sum() for column in energy_sources]\n",
        "\n",
        "plt.figure(figsize=(30, 6))\n",
        "plt.bar(energy_sources, consumption_values)\n",
        "plt.xlabel('Energy Sources')\n",
        "plt.ylabel('Total Consumption')\n",
        "plt.title('Energy Consumption Comparison')\n",
        "plt.show()\n"
      ]
    },
    {
      "cell_type": "markdown",
      "source": [
        "\n",
        "\n",
        "---\n",
        "\n"
      ],
      "metadata": {
        "id": "sBSJACc8gxTJ"
      }
    },
    {
      "cell_type": "markdown",
      "source": [
        "### **Histograms**\n"
      ],
      "metadata": {
        "id": "zbquu738g2gR"
      }
    },
    {
      "cell_type": "markdown",
      "source": [
        "#### **Histogram: Distribution of electricity demand**\n"
      ],
      "metadata": {
        "id": "0sQNpan8g7xG"
      }
    },
    {
      "cell_type": "code",
      "source": [
        "# Plot histogram of electricity demand\n",
        "plt.hist(df['electricity_demand'], bins=5)\n",
        "plt.xlabel('Electricity demand')\n",
        "plt.ylabel('Frequency')\n",
        "plt.title('Distribution of Electricity demand')\n",
        "plt.show()\n"
      ],
      "metadata": {
        "id": "ON5_shZFdSl_"
      },
      "execution_count": null,
      "outputs": []
    },
    {
      "cell_type": "markdown",
      "source": [
        "#### **Histogram: Distribution of electricity generation**\n"
      ],
      "metadata": {
        "id": "h-rtj5pEhF0N"
      }
    },
    {
      "cell_type": "code",
      "source": [
        "# Plot histogram of electricity generation\n",
        "plt.hist(df['electricity_generation'], bins=5)\n",
        "plt.xlabel('Electricity generation')\n",
        "plt.ylabel('Frequency')\n",
        "plt.title('Distribution of Electricity generation')\n",
        "plt.show()\n"
      ],
      "metadata": {
        "id": "4OsTzEM6dSZS"
      },
      "execution_count": null,
      "outputs": []
    },
    {
      "cell_type": "markdown",
      "source": [
        "#### **Histogram: Distribution of greenhouse gas emissions**\n"
      ],
      "metadata": {
        "id": "DhVFEQvQhKd2"
      }
    },
    {
      "cell_type": "code",
      "execution_count": null,
      "metadata": {
        "id": "-dj1MPuUfQaU"
      },
      "outputs": [],
      "source": [
        "# Plot histogram of greenhouse gas emissions\n",
        "plt.hist(df['greenhouse_gas_emissions'], bins=5)\n",
        "plt.xlabel('Greenhouse Gas Emissions')\n",
        "plt.ylabel('Frequency')\n",
        "plt.title('Distribution of Greenhouse Gas Emissions')\n",
        "plt.show()\n"
      ]
    },
    {
      "cell_type": "markdown",
      "source": [
        "### **Correlation Analysis**\n"
      ],
      "metadata": {
        "id": "YZz7xj9MhRX_"
      }
    },
    {
      "cell_type": "markdown",
      "source": [
        "#### **Correlation heatmap: Generation, demand, gas emissions and energy per GDP**"
      ],
      "metadata": {
        "id": "CIWzD2t0hVLn"
      }
    },
    {
      "cell_type": "code",
      "execution_count": null,
      "metadata": {
        "id": "CbQrW7WAf_sX"
      },
      "outputs": [],
      "source": [
        "# Select relevant columns for correlation heatmap\n",
        "correlation = ['electricity_generation', 'electricity_demand', 'greenhouse_gas_emissions', 'energy_per_gdp']\n",
        "\n",
        "# Compute correlation matrix\n",
        "corr_matrix = df[correlation].corr()\n",
        "\n",
        "# Plot correlation heatmap\n",
        "sns.heatmap(corr_matrix, annot=True, cmap='coolwarm')\n",
        "plt.title('Correlation Heatmap')\n",
        "plt.show()"
      ]
    },
    {
      "cell_type": "markdown",
      "metadata": {
        "id": "O7amhhDOgRYL"
      },
      "source": [
        "\n",
        "\n",
        "---\n",
        "\n"
      ]
    },
    {
      "cell_type": "markdown",
      "metadata": {
        "id": "4v5A8ZEpnDMC"
      },
      "source": [
        "#### **Correlation matrix: Generation, demand, gas emissions and energy per GDP**"
      ]
    },
    {
      "cell_type": "code",
      "source": [
        "# Plot a pairwise scatterplot of all of the variables\n",
        "sns.pairplot(corr_matrix)\n",
        "\n",
        "# Show the plot\n",
        "plt.show()\n"
      ],
      "metadata": {
        "id": "z-QVqsdld4Vw"
      },
      "execution_count": null,
      "outputs": []
    },
    {
      "cell_type": "markdown",
      "metadata": {
        "id": "rSQQsAjfoYkG"
      },
      "source": [
        "### **Correlation Co-efficient Matrix: Generation, demand, gas emissions and energy per GDP**"
      ]
    },
    {
      "cell_type": "code",
      "source": [
        "# Calculate the correlation coefficient matrix\n",
        "correlation_matrix = corr_matrix.corr(method='pearson')\n",
        "\n",
        "# Visualising the correlation matrix\n",
        "sns.heatmap(correlation_matrix, annot=True, cmap=\"coolwarm\")\n",
        "\n",
        "plt.title('Correlation matrix')\n",
        "plt.xlabel('Variables')\n",
        "plt.ylabel('Variables')\n",
        "\n",
        "plt.show()\n"
      ],
      "metadata": {
        "id": "RIC573hjeCwo"
      },
      "execution_count": null,
      "outputs": []
    },
    {
      "cell_type": "markdown",
      "source": [
        "\n",
        "\n",
        "---\n",
        "\n"
      ],
      "metadata": {
        "id": "6pvHWxQuhnZV"
      }
    }
  ],
  "metadata": {
    "colab": {
      "private_outputs": true,
      "provenance": []
    },
    "kernelspec": {
      "display_name": "Python 3",
      "name": "python3"
    },
    "language_info": {
      "name": "python"
    }
  },
  "nbformat": 4,
  "nbformat_minor": 0
}
